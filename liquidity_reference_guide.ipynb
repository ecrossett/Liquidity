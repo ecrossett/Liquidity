{
 "cells": [
  {
   "cell_type": "code",
   "execution_count": 1,
   "metadata": {},
   "outputs": [],
   "source": [
    "from liquidity_code_helper import *"
   ]
  },
  {
   "cell_type": "markdown",
   "metadata": {},
   "source": [
    "# Reference Guide to Functions and Code for Liquidity Premium Analysis\n",
    "\n",
    "#### The main presentation is in a separate notebook called 'LiquidityPremiumAnalysis.ipynb'\n",
    "\n",
    "#### [In alphabetical order]"
   ]
  },
  {
   "cell_type": "code",
   "execution_count": 2,
   "metadata": {},
   "outputs": [
    {
     "name": "stdout",
     "output_type": "stream",
     "text": [
      "Help on function BS in module liquidity_code_helper:\n",
      "\n",
      "BS(S, K, r, q, sigma, T, flavor='c', style='euro', display='no', t=0)\n",
      "    This function takes input parameters for vanilla european options.\n",
      "    Flavor for p/c, style, display. Returns closed-form price and greeks.\n",
      "\n"
     ]
    }
   ],
   "source": [
    "help(BS)"
   ]
  },
  {
   "cell_type": "code",
   "execution_count": 3,
   "metadata": {},
   "outputs": [
    {
     "name": "stdout",
     "output_type": "stream",
     "text": [
      "Help on function generateMC_BS_chart in module liquidity_code_helper:\n",
      "\n",
      "generateMC_BS_chart()\n",
      "    This program is predefined to run a MC sim for a lookback option,\n",
      "    calulates the closed-form analytic solution for the same option,\n",
      "    prices a vanilla european call with the same parameters using \n",
      "    Black-Sholes.  Generates a chart showing how increasing the\n",
      "    sampling frequency of the discretely sampled lookback MC sim causes\n",
      "    the values to shift from the Black-Scholes value (for m=1) towards \n",
      "    the value of the continuous lookback (as m grows large).\n",
      "\n"
     ]
    }
   ],
   "source": [
    "help(generateMC_BS_chart)"
   ]
  },
  {
   "cell_type": "code",
   "execution_count": 4,
   "metadata": {},
   "outputs": [
    {
     "name": "stdout",
     "output_type": "stream",
     "text": [
      "Help on function generateVarChart in module liquidity_code_helper:\n",
      "\n",
      "generateVarChart()\n",
      "    Variance reduction using antithetic variates.  This program is \n",
      "    predefined to run a MC sim for a lookback option, and generates a \n",
      "    chart which shows the effects of using antithetic variates \n",
      "    with various sampling frequencies.\n",
      "\n"
     ]
    }
   ],
   "source": [
    "help(generateVarChart)"
   ]
  },
  {
   "cell_type": "code",
   "execution_count": 5,
   "metadata": {},
   "outputs": [
    {
     "name": "stdout",
     "output_type": "stream",
     "text": [
      "Help on function getCharts in module liquidity_code_helper:\n",
      "\n",
      "getCharts(sigList, TList1, TNames1, TList2, TNames2, type1=None, type2=None)\n",
      "    This is a program that executes plotLiquidity() function specifically\n",
      "    desined for a time series on the x-axis.\n",
      "\n"
     ]
    }
   ],
   "source": [
    "help(getCharts)"
   ]
  },
  {
   "cell_type": "code",
   "execution_count": 6,
   "metadata": {},
   "outputs": [
    {
     "name": "stdout",
     "output_type": "stream",
     "text": [
      "Help on function getLiquidity in module liquidity_code_helper:\n",
      "\n",
      "getLiquidity(sigList, TList, TNames, type=None)\n",
      "    This program takes a list of volatilities and time horizons as inputs.\n",
      "    Outputs dataframe summary of illiquidity premium sorted by time horizon (columns)\n",
      "    and volatility (rows). \n",
      "    \n",
      "    Set type to intraday (bps) or None (%)\n",
      "\n"
     ]
    }
   ],
   "source": [
    "help(getLiquidity)"
   ]
  },
  {
   "cell_type": "code",
   "execution_count": 7,
   "metadata": {},
   "outputs": [
    {
     "name": "stdout",
     "output_type": "stream",
     "text": [
      "Help on function lookback_Analytic in module liquidity_code_helper:\n",
      "\n",
      "lookback_Analytic(S, K, r, q, sigma, T, flavor='fixed strike call', t=0)\n",
      "    This function computes the continuous time analytical price for lookback \n",
      "    options.\n",
      "    \n",
      "    Input to select parameters, flavor = fixed/float and put/call.\n",
      "    Outputs final price.\n",
      "\n"
     ]
    }
   ],
   "source": [
    "help(lookback_Analytic)"
   ]
  },
  {
   "cell_type": "code",
   "execution_count": 8,
   "metadata": {},
   "outputs": [
    {
     "name": "stdout",
     "output_type": "stream",
     "text": [
      "Help on function lookback_MC in module liquidity_code_helper:\n",
      "\n",
      "lookback_MC(batches, freqs, S, K, r, q, sigma, T, antithetic='no', flavor='c', style='float', display='no', t=0)\n",
      "    Bare-bones Monte Carlo sim for a fixed strike lookback option.\n",
      "    \n",
      "    This function generate batches (a list) of n normally distributed \n",
      "    random variables, which are used to generate a geometric brownian motion \n",
      "    along n sample paths.\n",
      "    \n",
      "    Alternatively, you can run a list of frequencies for a given batch size.\n",
      "    \n",
      "    Then we calculate the maximum values, for each batch, along\n",
      "    each n paths, for the specified frequency and number of steps.  \n",
      "    \n",
      "    We end up with a row vector of n maximums, \n",
      "    which are then used to calculate the discounted payoff, then we take the \n",
      "    mean of each of these.\n",
      "    \n",
      "    Ouputs price and standard error.\n",
      "\n"
     ]
    }
   ],
   "source": [
    "help(lookback_MC)"
   ]
  },
  {
   "cell_type": "code",
   "execution_count": 9,
   "metadata": {},
   "outputs": [
    {
     "name": "stdout",
     "output_type": "stream",
     "text": [
      "Help on function lookback_MC_CV_bridge in module liquidity_code_helper:\n",
      "\n",
      "lookback_MC_CV_bridge(batches, freqs, S, K, r, q, sigma, T, CV_val, flavor='c', style='float', display='no', t=0)\n",
      "    Monte Carlo sim for a fixed-strike lookback option using a \n",
      "    Brownian Bridge technique as a control variate for variance reduction.\n",
      "    \n",
      "    This function generates batches of n normally distributed random variables, \n",
      "    which are used to generate a geometric brownian motion along n sample paths.  \n",
      "    Then we calculate the maximum values, for each batch, along\n",
      "    each n paths, for the specified frequency and number of steps.  \n",
      "    \n",
      "    Alternatively it can run the frequencies in batches for a specified batch size.  \n",
      "    \n",
      "    We end up with a row vector of n maximums, which are then used to calculate \n",
      "    each discounted payoff.  \n",
      "    \n",
      "    We use the Box-Muller method to generate normal distributions drawn from a \n",
      "    uniform[0,1] to fill in the gaps between sampling periods for variance reduction.  \n",
      "    Same process as above, then subtract, and take the mean of the diff.\n",
      "    \n",
      "    Then we add back the known control variate value to get the true estimator.\n",
      "\n"
     ]
    }
   ],
   "source": [
    "help(lookback_MC_CV_bridge)"
   ]
  },
  {
   "cell_type": "code",
   "execution_count": 10,
   "metadata": {},
   "outputs": [
    {
     "name": "stdout",
     "output_type": "stream",
     "text": [
      "Help on function lookback_MC_CV_european in module liquidity_code_helper:\n",
      "\n",
      "lookback_MC_CV_european(batches, freqs, S, K, r, q, sigma, T, CV_val, flavor='c', style='float', display='no', t=0)\n",
      "    Monte Carlo sim for a fixed strike lookback option using a european \n",
      "    call as a control variate for variance reduction.\n",
      "    \n",
      "    This function generates batches of n normally distributed random variables, \n",
      "    which are used to generate a geometric brownian motion along n sample paths.  \n",
      "    \n",
      "    Then we calculate the maximum values, for each batch, alongeach n paths, \n",
      "    using the specified sampling frequency and number of steps.  \n",
      "    \n",
      "    Alternatively it can run the frequencies in batches for a specified batch size. \n",
      "    \n",
      "    We end up with a row vector of n maximums, which are then used to calculate \n",
      "    the discounted payoffs.  \n",
      "    \n",
      "    Here we are also doing the same process as above for the simulated vanilla \n",
      "    european option.\n",
      "    \n",
      "    We take the mean of the diiference of these values, then add back the value \n",
      "    of the known control variate to get the true estimator. \n",
      "    \n",
      "    This should significantly reduce variance, with marginal computational expense.\n",
      "\n"
     ]
    }
   ],
   "source": [
    "help(lookback_MC_CV_european)"
   ]
  },
  {
   "cell_type": "code",
   "execution_count": 11,
   "metadata": {},
   "outputs": [
    {
     "name": "stdout",
     "output_type": "stream",
     "text": [
      "Help on function MC in module liquidity_code_helper:\n",
      "\n",
      "MC(batches, St, K, r, q, sigma, T, flavor='Call', alpha=0, style='euro', seed=2, t=0)\n",
      "    This function is a bare bones Monte Carlo simulator.  It will generate a \n",
      "    Geometric Brownian Motion using inputs for parameters, style, seed.  \n",
      "    \n",
      "    Alpha is used for power and root payout structures.\n",
      "\n"
     ]
    }
   ],
   "source": [
    "help(MC)"
   ]
  },
  {
   "cell_type": "code",
   "execution_count": 12,
   "metadata": {},
   "outputs": [
    {
     "name": "stdout",
     "output_type": "stream",
     "text": [
      "Help on function plotLiquidity in module liquidity_code_helper:\n",
      "\n",
      "plotLiquidity(sigList, TList, TNames, type=None)\n",
      "    This program takes a list of volatilities and time horizons as inputs.\n",
      "    Outputs plots of illiquidity premium (y-axis) vs time horizon (x-axis).\n",
      "    \n",
      "    Use with getCharts() function. \n",
      "    \n",
      "    Set type to intraday (bps) or None (%)\n",
      "\n"
     ]
    }
   ],
   "source": [
    "help(plotLiquidity)"
   ]
  },
  {
   "cell_type": "code",
   "execution_count": 13,
   "metadata": {},
   "outputs": [
    {
     "name": "stdout",
     "output_type": "stream",
     "text": [
      "Help on function runLiquidity_MC in module liquidity_code_helper:\n",
      "\n",
      "runLiquidity_MC()\n",
      "    This program is predefined to set up the necessary control variates,\n",
      "    run a MC sim for a fixed strike lookback option and compute the\n",
      "    BS price, continuous lookback price, and discretely sampled sim\n",
      "    prices.  The goal is to compute an upper bound for the expected\n",
      "    illiquidity premium (in percentage terms for various windows of time*)\n",
      "    by comparing the simulated discretely sampled lookback prices \n",
      "    to those of the continuous analytical price.\n",
      "    \n",
      "    Generates a table with summary statistics.\n",
      "    \n",
      "    *For intraday windows: this can be viewed as the max premium to pay\n",
      "    to compensate for the time lag it would take to execute an illiquid position.\n",
      "    \n",
      "    *For +1 day time horizon: this can be viewed as a restricted stock or\n",
      "    investment with a lockout period.\n",
      "    \n",
      "    As sampling freq (m) approaches zero: the sim price moves closer to the BS\n",
      "    value (illiquid) and further from the continuous analytical value (liquid)\n",
      "    \n",
      "    As sampling freq (m) approaches days-to-maturity, the sim price moves closer to\n",
      "    the continuous value (liquid) and further from the BS value (illiquid)\n",
      "\n"
     ]
    }
   ],
   "source": [
    "help(runLiquidity_MC)"
   ]
  }
 ],
 "metadata": {
  "kernelspec": {
   "display_name": "Python 3",
   "language": "python",
   "name": "python3"
  },
  "language_info": {
   "codemirror_mode": {
    "name": "ipython",
    "version": 3
   },
   "file_extension": ".py",
   "mimetype": "text/x-python",
   "name": "python",
   "nbconvert_exporter": "python",
   "pygments_lexer": "ipython3",
   "version": "3.7.6"
  }
 },
 "nbformat": 4,
 "nbformat_minor": 2
}
